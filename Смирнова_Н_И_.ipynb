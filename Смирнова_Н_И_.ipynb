{
  "nbformat": 4,
  "nbformat_minor": 0,
  "metadata": {
    "colab": {
      "provenance": [],
      "authorship_tag": "ABX9TyNSnSLKxv4jOWv7CUH3ptnp",
      "include_colab_link": true
    },
    "kernelspec": {
      "name": "python3",
      "display_name": "Python 3"
    },
    "language_info": {
      "name": "python"
    },
    "gpuClass": "standard"
  },
  "cells": [
    {
      "cell_type": "markdown",
      "metadata": {
        "id": "view-in-github",
        "colab_type": "text"
      },
      "source": [
        "<a href=\"https://colab.research.google.com/github/NataliyaSmirnovaKava/dz3/blob/main/%D0%A1%D0%BC%D0%B8%D1%80%D0%BD%D0%BE%D0%B2%D0%B0_%D0%9D_%D0%98_.ipynb\" target=\"_parent\"><img src=\"https://colab.research.google.com/assets/colab-badge.svg\" alt=\"Open In Colab\"/></a>"
      ]
    },
    {
      "cell_type": "markdown",
      "source": [
        "Импортируйте библиотеку NumPy"
      ],
      "metadata": {
        "id": "EZ6OGTzPtPNz"
      }
    },
    {
      "cell_type": "code",
      "source": [
        "import numpy as np\n"
      ],
      "metadata": {
        "id": "wBf1vmxUHMHI"
      },
      "execution_count": null,
      "outputs": []
    },
    {
      "cell_type": "code",
      "source": [
        "# Создайте массив из 10 нулей\n",
        "import numpy as np\n",
        "a=np.zeros(10)\n",
        "print(a)"
      ],
      "metadata": {
        "colab": {
          "base_uri": "https://localhost:8080/"
        },
        "id": "9h7z3B76tkbh",
        "outputId": "c068c7a2-cb0b-4ab1-fcf3-f4908308948f"
      },
      "execution_count": null,
      "outputs": [
        {
          "output_type": "stream",
          "name": "stdout",
          "text": [
            "[0. 0. 0. 0. 0. 0. 0. 0. 0. 0.]\n"
          ]
        }
      ]
    },
    {
      "cell_type": "markdown",
      "source": [
        "Создать массив из 10 единиц"
      ],
      "metadata": {
        "id": "SNByfXOZuJRU"
      }
    },
    {
      "cell_type": "code",
      "source": [
        "b=np.ones(10)\n",
        "print(b)"
      ],
      "metadata": {
        "colab": {
          "base_uri": "https://localhost:8080/"
        },
        "id": "eaI3TpMsuMFa",
        "outputId": "0b1ee370-6004-4fc1-f707-bbaca5c9c3af"
      },
      "execution_count": null,
      "outputs": [
        {
          "output_type": "stream",
          "name": "stdout",
          "text": [
            "[1. 1. 1. 1. 1. 1. 1. 1. 1. 1.]\n"
          ]
        }
      ]
    },
    {
      "cell_type": "markdown",
      "source": [
        "Создать массив из 10 пятерок"
      ],
      "metadata": {
        "id": "u9Ld8QawufUm"
      }
    },
    {
      "cell_type": "code",
      "source": [
        "import numpy as np\n",
        "c=b*5\n",
        "print(c)"
      ],
      "metadata": {
        "colab": {
          "base_uri": "https://localhost:8080/"
        },
        "id": "UE_niC9AumTK",
        "outputId": "eb7750d7-7efe-403a-8e62-ff5b35367eca"
      },
      "execution_count": null,
      "outputs": [
        {
          "output_type": "stream",
          "name": "stdout",
          "text": [
            "[5. 5. 5. 5. 5. 5. 5. 5. 5. 5.]\n"
          ]
        }
      ]
    },
    {
      "cell_type": "markdown",
      "source": [
        "Создать массив из целых чисел от 10 до 50"
      ],
      "metadata": {
        "id": "DV5LW08nvLIy"
      }
    },
    {
      "cell_type": "code",
      "source": [
        "d=np.arange(10,51)\n",
        "print (d)"
      ],
      "metadata": {
        "colab": {
          "base_uri": "https://localhost:8080/"
        },
        "id": "36-Vn_aFvO_6",
        "outputId": "f1abd1ed-a658-409e-b0c8-a61c0f767e13"
      },
      "execution_count": null,
      "outputs": [
        {
          "output_type": "stream",
          "name": "stdout",
          "text": [
            "[10 11 12 13 14 15 16 17 18 19 20 21 22 23 24 25 26 27 28 29 30 31 32 33\n",
            " 34 35 36 37 38 39 40 41 42 43 44 45 46 47 48 49 50]\n"
          ]
        }
      ]
    },
    {
      "cell_type": "markdown",
      "source": [
        "Создать массив из четных чисел от 10 до 50"
      ],
      "metadata": {
        "id": "O5RrOFgqvyRz"
      }
    },
    {
      "cell_type": "code",
      "source": [
        "f=np.arange(10,51,2)\n",
        "print (f)"
      ],
      "metadata": {
        "colab": {
          "base_uri": "https://localhost:8080/"
        },
        "id": "MiVpKn0Kv2vg",
        "outputId": "83b4057f-3395-4045-bc84-8e4f795e5b16"
      },
      "execution_count": null,
      "outputs": [
        {
          "output_type": "stream",
          "name": "stdout",
          "text": [
            "[10 12 14 16 18 20 22 24 26 28 30 32 34 36 38 40 42 44 46 48 50]\n"
          ]
        }
      ]
    },
    {
      "cell_type": "markdown",
      "source": [
        "Создать матрицу 3х3 с числами от 0 до 8"
      ],
      "metadata": {
        "id": "Mw18NBEBwame"
      }
    },
    {
      "cell_type": "code",
      "source": [
        "z= np.arange(0,9). reshape (3,3)\n",
        "print (z)"
      ],
      "metadata": {
        "colab": {
          "base_uri": "https://localhost:8080/"
        },
        "id": "fA5YOksWwdiJ",
        "outputId": "4ba0d2fd-2ffa-4923-b088-01bb10179fcb"
      },
      "execution_count": null,
      "outputs": [
        {
          "output_type": "stream",
          "name": "stdout",
          "text": [
            "[[0 1 2]\n",
            " [3 4 5]\n",
            " [6 7 8]]\n"
          ]
        }
      ]
    },
    {
      "cell_type": "markdown",
      "source": [],
      "metadata": {
        "id": "WfCkJzUSx8wc"
      }
    },
    {
      "cell_type": "markdown",
      "source": [
        "Создать единичную матрицу 3x3"
      ],
      "metadata": {
        "id": "3bTzNeb5yAfv"
      }
    },
    {
      "cell_type": "code",
      "source": [
        "h=np.eye (3)\n",
        "print(h)"
      ],
      "metadata": {
        "colab": {
          "base_uri": "https://localhost:8080/"
        },
        "id": "yj8NWiL8yE24",
        "outputId": "3579fb32-6903-47ba-fea0-9ca926dab06c"
      },
      "execution_count": null,
      "outputs": [
        {
          "output_type": "stream",
          "name": "stdout",
          "text": [
            "[[1. 0. 0.]\n",
            " [0. 1. 0.]\n",
            " [0. 0. 1.]]\n"
          ]
        }
      ]
    },
    {
      "cell_type": "markdown",
      "source": [
        "Используйте NumPy для генерации случайного числа от 0 до 1"
      ],
      "metadata": {
        "id": "CCqE73Fvybrh"
      }
    },
    {
      "cell_type": "code",
      "source": [
        "i=np.random.rand (1)\n",
        "print(i)"
      ],
      "metadata": {
        "colab": {
          "base_uri": "https://localhost:8080/"
        },
        "id": "ANSB-RQZyckd",
        "outputId": "4b3990b1-9c24-4e45-e9f3-8bdfef269034"
      },
      "execution_count": null,
      "outputs": [
        {
          "output_type": "stream",
          "name": "stdout",
          "text": [
            "[0.1344064]\n"
          ]
        }
      ]
    },
    {
      "cell_type": "markdown",
      "source": [
        "Используйте NumPy для генерации массива из 25 случайных чисел,\n",
        "взятых из стандартного нормального распределения"
      ],
      "metadata": {
        "id": "3aGY4vdjzO6S"
      }
    },
    {
      "cell_type": "code",
      "source": [
        "j=np.random.rand (25)\n",
        "print(j)"
      ],
      "metadata": {
        "colab": {
          "base_uri": "https://localhost:8080/"
        },
        "id": "uAqLKLDKzQA5",
        "outputId": "2d4d5b79-49af-4713-959b-1a96faa30301"
      },
      "execution_count": null,
      "outputs": [
        {
          "output_type": "stream",
          "name": "stdout",
          "text": [
            "[0.50371849 0.89576231 0.25611246 0.41195224 0.32623622 0.68378374\n",
            " 0.81523307 0.13180935 0.55765555 0.22905372 0.17484342 0.12187578\n",
            " 0.12017219 0.22037055 0.80418474 0.71047499 0.86704528 0.6010497\n",
            " 0.95802625 0.69525534 0.30482984 0.31210809 0.36493658 0.05121129\n",
            " 0.51773077]\n"
          ]
        }
      ]
    },
    {
      "cell_type": "markdown",
      "source": [
        "Создайте следующую матрицу используя функции библиотеки NumPy:"
      ],
      "metadata": {
        "id": "Ci3X5PeWzdai"
      }
    },
    {
      "cell_type": "code",
      "source": [
        "k=np.arange(0.01,1.01,0.01).reshape(10,10)\n",
        "print (k)"
      ],
      "metadata": {
        "colab": {
          "base_uri": "https://localhost:8080/"
        },
        "id": "tDOoDVYDzlKO",
        "outputId": "2729c59d-5055-4a26-bca5-84e103f5d8af"
      },
      "execution_count": null,
      "outputs": [
        {
          "output_type": "stream",
          "name": "stdout",
          "text": [
            "[[0.01 0.02 0.03 0.04 0.05 0.06 0.07 0.08 0.09 0.1 ]\n",
            " [0.11 0.12 0.13 0.14 0.15 0.16 0.17 0.18 0.19 0.2 ]\n",
            " [0.21 0.22 0.23 0.24 0.25 0.26 0.27 0.28 0.29 0.3 ]\n",
            " [0.31 0.32 0.33 0.34 0.35 0.36 0.37 0.38 0.39 0.4 ]\n",
            " [0.41 0.42 0.43 0.44 0.45 0.46 0.47 0.48 0.49 0.5 ]\n",
            " [0.51 0.52 0.53 0.54 0.55 0.56 0.57 0.58 0.59 0.6 ]\n",
            " [0.61 0.62 0.63 0.64 0.65 0.66 0.67 0.68 0.69 0.7 ]\n",
            " [0.71 0.72 0.73 0.74 0.75 0.76 0.77 0.78 0.79 0.8 ]\n",
            " [0.81 0.82 0.83 0.84 0.85 0.86 0.87 0.88 0.89 0.9 ]\n",
            " [0.91 0.92 0.93 0.94 0.95 0.96 0.97 0.98 0.99 1.  ]]\n"
          ]
        }
      ]
    },
    {
      "cell_type": "markdown",
      "source": [
        "это наша стартовая матрица"
      ],
      "metadata": {
        "id": "f22MsaMU3sEX"
      }
    },
    {
      "cell_type": "markdown",
      "source": [
        "Необходимо написать код который вернет следующую матрицу\n",
        "из стартовой"
      ],
      "metadata": {
        "id": "8Rzlu6Vk3-Kh"
      }
    },
    {
      "cell_type": "code",
      "source": [
        "mat = np.arange(1,26).reshape(5,5)\n",
        "print(mat)"
      ],
      "metadata": {
        "colab": {
          "base_uri": "https://localhost:8080/"
        },
        "id": "aXRwuDqe8hIj",
        "outputId": "f5f2a841-5c9d-447e-c6c9-d277018ea2a0"
      },
      "execution_count": null,
      "outputs": [
        {
          "output_type": "stream",
          "name": "stdout",
          "text": [
            "[[ 1  2  3  4  5]\n",
            " [ 6  7  8  9 10]\n",
            " [11 12 13 14 15]\n",
            " [16 17 18 19 20]\n",
            " [21 22 23 24 25]]\n"
          ]
        }
      ]
    },
    {
      "cell_type": "markdown",
      "source": [
        "Необходимо написать код который вернет следующую матрицу\n",
        "из стартовой"
      ],
      "metadata": {
        "id": "9okCF9nF49ik"
      }
    },
    {
      "cell_type": "code",
      "source": [
        "print (mat[2:,1:])"
      ],
      "metadata": {
        "colab": {
          "base_uri": "https://localhost:8080/"
        },
        "id": "T56b4vN45GE6",
        "outputId": "2964d3a0-6410-423a-a5ad-8c53a2fd4f76"
      },
      "execution_count": null,
      "outputs": [
        {
          "output_type": "stream",
          "name": "stdout",
          "text": [
            "[[12 13 14 15]\n",
            " [17 18 19 20]\n",
            " [22 23 24 25]]\n"
          ]
        }
      ]
    },
    {
      "cell_type": "markdown",
      "source": [
        "Написать код обращения к элементу который вернет значение 20 из\n",
        "стартовой матрицы задачи l"
      ],
      "metadata": {
        "id": "PtyE6csn5ab4"
      }
    },
    {
      "cell_type": "code",
      "source": [
        "ar=mat[mat==20]\n",
        "print(ar)"
      ],
      "metadata": {
        "colab": {
          "base_uri": "https://localhost:8080/"
        },
        "id": "ycXQCMb35bpZ",
        "outputId": "95d53d7a-4842-4ba3-dde3-f39dee2006ec"
      },
      "execution_count": null,
      "outputs": [
        {
          "output_type": "stream",
          "name": "stdout",
          "text": [
            "[20]\n"
          ]
        }
      ]
    },
    {
      "cell_type": "markdown",
      "source": [
        "Написать код к стартовой матрице задачи l , который воспроизводит\n",
        "вывод, показанный ниже"
      ],
      "metadata": {
        "id": "S0hAi0535qmh"
      }
    },
    {
      "cell_type": "code",
      "source": [
        "print(mat[0:3,1].reshape(3,1))"
      ],
      "metadata": {
        "colab": {
          "base_uri": "https://localhost:8080/"
        },
        "id": "EzfmlmEF5ujb",
        "outputId": "46baba41-47aa-4b9c-e3a4-6f5b4d9c796b"
      },
      "execution_count": null,
      "outputs": [
        {
          "output_type": "stream",
          "name": "stdout",
          "text": [
            "[[ 2]\n",
            " [ 7]\n",
            " [12]]\n"
          ]
        }
      ]
    },
    {
      "cell_type": "markdown",
      "source": [
        "Написать код к стартовой матрице задачи l , который воспроизводит\n",
        "вывод, показанный ниже"
      ],
      "metadata": {
        "id": "FT5udCa-7jTa"
      }
    },
    {
      "cell_type": "code",
      "source": [
        "print(mat[4])"
      ],
      "metadata": {
        "colab": {
          "base_uri": "https://localhost:8080/"
        },
        "id": "9FDUfJn57kat",
        "outputId": "2ba5a5b1-f782-4422-a8fd-95c1850914e0"
      },
      "execution_count": null,
      "outputs": [
        {
          "output_type": "stream",
          "name": "stdout",
          "text": [
            "[21 22 23 24 25]\n"
          ]
        }
      ]
    },
    {
      "cell_type": "markdown",
      "source": [
        "Написать код к стартовой матрице задачи l , который воспроизводит\n",
        "вывод, показанный ниже"
      ],
      "metadata": {
        "id": "m7EKPmHn74cm"
      }
    },
    {
      "cell_type": "code",
      "source": [
        "print(mat[3:])"
      ],
      "metadata": {
        "colab": {
          "base_uri": "https://localhost:8080/"
        },
        "id": "07pwdDmi77R2",
        "outputId": "ea43dae8-d64b-4938-fe5e-7e366fd7929e"
      },
      "execution_count": null,
      "outputs": [
        {
          "output_type": "stream",
          "name": "stdout",
          "text": [
            "[[16 17 18 19 20]\n",
            " [21 22 23 24 25]]\n"
          ]
        }
      ]
    },
    {
      "cell_type": "markdown",
      "source": [
        "Получить сумму всех значений в стартовой матрице mat"
      ],
      "metadata": {
        "id": "ikEJKUmV8G9i"
      }
    },
    {
      "cell_type": "code",
      "source": [
        "print(mat.sum())"
      ],
      "metadata": {
        "colab": {
          "base_uri": "https://localhost:8080/"
        },
        "id": "Y8YtxrPu8H_E",
        "outputId": "2b43bf7b-104a-450d-86e8-89030e5a9348"
      },
      "execution_count": null,
      "outputs": [
        {
          "output_type": "stream",
          "name": "stdout",
          "text": [
            "325\n"
          ]
        }
      ]
    },
    {
      "cell_type": "markdown",
      "source": [
        "Получить стандартное отклонение в стартовой матрице mat"
      ],
      "metadata": {
        "id": "-x7mmGrI8YeP"
      }
    },
    {
      "cell_type": "code",
      "source": [
        "print(mat.std())"
      ],
      "metadata": {
        "colab": {
          "base_uri": "https://localhost:8080/"
        },
        "id": "Vg0rJA8o8Zd8",
        "outputId": "6c6e01ab-0328-4b17-b189-fb8e77fbd8d1"
      },
      "execution_count": null,
      "outputs": [
        {
          "output_type": "stream",
          "name": "stdout",
          "text": [
            "7.211102550927978\n"
          ]
        }
      ]
    },
    {
      "cell_type": "markdown",
      "source": [
        "Получить сумму значений в колонках в стартовой матрице mat"
      ],
      "metadata": {
        "id": "-yIQnlOJ8mMa"
      }
    },
    {
      "cell_type": "code",
      "source": [
        "print(mat.sum(axis=0))"
      ],
      "metadata": {
        "colab": {
          "base_uri": "https://localhost:8080/"
        },
        "id": "qGl2dBuR8nRE",
        "outputId": "27055725-74b9-4faa-b996-d0b01c283e42"
      },
      "execution_count": null,
      "outputs": [
        {
          "output_type": "stream",
          "name": "stdout",
          "text": [
            "[55 60 65 70 75]\n"
          ]
        }
      ]
    }
  ]
}